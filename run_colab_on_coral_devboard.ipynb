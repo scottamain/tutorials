{
  "nbformat": 4,
  "nbformat_minor": 0,
  "metadata": {
    "colab": {
      "name": "run_colab_on_coral_devboard.ipynb",
      "provenance": [],
      "collapsed_sections": [],
      "toc_visible": true
    },
    "kernelspec": {
      "name": "python3",
      "display_name": "Python 3"
    }
  },
  "cells": [
    {
      "cell_type": "markdown",
      "metadata": {
        "id": "dGib_ljiVqZp",
        "colab_type": "text"
      },
      "source": [
        "# Run Colab on a Coral Dev Board\n",
        "\n",
        "This tutorial shows you how to run Jupyter notebooks on your Coral Dev Board, and then edit and execute them from your connected computer using the [Google Colab interface](https://research.google.com/colaboratory/faq.html).\n",
        "\n",
        "By the end of this tutorial, you'll connect this notebook to your Dev Board and run TensorFlow Lite code directly from this page on the board.\n"
      ]
    },
    {
      "cell_type": "markdown",
      "metadata": {
        "id": "7MdedD-KZNku",
        "colab_type": "text"
      },
      "source": [
        "## Requirements\n",
        "\n",
        "+ You need a Coral Dev Board and it should be [set up with the latest software](https://coral.ai/docs/dev-board/get-started/).\n",
        "\n",
        "  If you run `cat /etc/mendel_version` on the Dev Board, it should print 4.0 or higher.\n",
        "\n",
        "+ The computer you're using to read this tutorial must have [MDT installed](https://coral.ai/docs/dev-board/mdt/)."
      ]
    },
    {
      "cell_type": "markdown",
      "metadata": {
        "id": "qR_kI6EpUJ_u",
        "colab_type": "text"
      },
      "source": [
        "## Install Jupyter\n",
        "\n",
        "First you need to install Jupyter on your Dev Board as follows:\n",
        "\n",
        "1.  Open a shell on your Dev Board:\n",
        "\n",
        "    ```bash\n",
        "    mdt shell\n",
        "    ```\n",
        "\n",
        "2.  Install the Python 3 development tools on the board:\n",
        "\n",
        "    ```bash\n",
        "    sudo apt-get update\n",
        "\n",
        "    sudo apt-get install python3-dev\n",
        "    ```\n",
        "\n",
        "3.  Install Jupyter:\n",
        "\n",
        "    ```bash\n",
        "    pip3 install jupyter\n",
        "    ```\n",
        "\n",
        "4.  Reload the `.profile` file to access Jupyter's location (at `~/.local/bin`):\n",
        "\n",
        "    ```\n",
        "    source $HOME/.profile\n",
        "    ```\n",
        "\n",
        "5.  Verify it works by running `jupyter --version`.\n",
        "\n",
        "    If this prints `command not found`, then your Mendel version might be out of date or the Jupyter installation failed.\n",
        "\n",
        "\n",
        "\n",
        "\n",
        "\n",
        "\n"
      ]
    },
    {
      "cell_type": "markdown",
      "metadata": {
        "id": "AU1M5f8rUh_C",
        "colab_type": "text"
      },
      "source": [
        "## Start Jupyter on the Dev Board\n",
        "\n",
        "Before starting Jupyter on the Dev Board, you need to install `jupyter_http_over_ws`, which enables your host computer to communicate with Jupyter via WebSocket:\n",
        "\n",
        "```bash\n",
        "pip3 install jupyter_http_over_ws\n",
        "\n",
        "jupyter serverextension enable --py jupyter_http_over_ws\n",
        "```\n",
        "\n",
        "Once that's done, start Jupyter as follows:\n",
        "\n",
        "```bash\n",
        "jupyter notebook \\\n",
        "  --NotebookApp.allow_origin='https://colab.research.google.com' \\\n",
        "  --port=8888 \\\n",
        "  --NotebookApp.port_retries=0\n",
        "```\n",
        "\n",
        "This outputs several messages, including a URL such as `http://localhost:8888/?token=...`. You'll\n",
        "need to come back and copy this token later.\n",
        "\n",
        "Be sure you leave this terminal open because it's now running the Jupyter notebook."
      ]
    },
    {
      "cell_type": "markdown",
      "metadata": {
        "id": "o3DVvLEfUdhI",
        "colab_type": "text"
      },
      "source": [
        "## Start SSH port forwarding\n",
        "\n",
        "Although Jupyter is now running, it's only accessible from the Dev Board. To access it from the host computer, you need to forward your localhost traffic to the Dev Board with an SSH tunnel. The effect is to make Google Colab think Jupyter notebook is running on your host computer even though it's actually running on the Dev Board.\n",
        "\n",
        "Open a new terminal on your host computer (where you run `mdt shell`) and run this command:\n",
        "\n",
        "```bash\n",
        "ssh -N -L 8888:localhost:8888 mendel@192.168.100.2 -i ~/.config/mdt/keys/mdt.key\n",
        "```\n",
        "\n",
        "If asked, `Are you sure you want to continue connecting?`, type `yes`.\n",
        "\n",
        "If you see a warning that says `REMOTE HOST IDENTIFICATION HAS CHANGED`, then you need to open the `known_hosts` file and remove the line specifying the key for `192.168.100.2`. Then try again.\n",
        "\n",
        "Now leave this window active because this command is what keeps the SSH tunnel open between the Dev Board and the host computer.\n",
        "\n"
      ]
    },
    {
      "cell_type": "markdown",
      "metadata": {
        "id": "zk7ekSr7UYuP",
        "colab_type": "text"
      },
      "source": [
        "## Connect this Colab to the local runtime\n",
        "\n",
        "1.  Open http://localhost:8888 in a browser on the host computer.\n",
        "    \n",
        "2.  You should see a Jupyter notebook page asking for \"Password or token\" at the top. Paste the token printed by the `jupyter notebook` command above (just the part following `?token=`), and click **Log in**.\n",
        "\n",
        "2.  Now, on *this tutorial page's* Colab interface, click the drop-down arrow next to **Connect** (near the top-right corner of the web page) and click **Connect to local runtime**.\n",
        "\n",
        "4.  Use `8888` as the port and click **Connect**.\n",
        "\n",
        "    The button should now say \"Connected (Local)\".\n",
        "\n",
        "This notebook (the page you're reading) is now connected to your Dev Board and you can run code from this page on the board!\n"
      ]
    },
    {
      "cell_type": "markdown",
      "metadata": {
        "id": "LmsZVTCBVGtB",
        "colab_type": "text"
      },
      "source": [
        "## Run notebook code on the Dev Board\n",
        "\n",
        "\n",
        "You can execute the code blocks below one at a time or run them all by selecting **Runtime > Run all** in the toolbar.\n",
        "\n",
        "First you need to download pre-compiled models and data from the Edge TPU API examples:"
      ]
    },
    {
      "cell_type": "code",
      "metadata": {
        "id": "jOKXppy9Km91",
        "colab_type": "code",
        "colab": {
          "base_uri": "https://localhost:8080/",
          "height": 1000
        },
        "outputId": "28c9777d-366f-48ac-bf90-303c09bb6a0f"
      },
      "source": [
        "! sudo apt-get update\n",
        "\n",
        "! sudo apt-get install edgetpu-examples"
      ],
      "execution_count": 1,
      "outputs": [
        {
          "output_type": "stream",
          "text": [
            "\r0% [Working]\r            \rGet:1 file:/var/cache/mdt/packages ./ InRelease\r\n",
            "\r            \rIgn:1 file:/var/cache/mdt/packages ./ InRelease\r\n",
            "\r0% [Working]\r            \rGet:2 file:/var/cache/mdt/packages ./ Release\r\n",
            "\r0% [2 Release 0 B]\r                  \rIgn:2 file:/var/cache/mdt/packages ./ Release\r\n",
            "\r                  \r0% [Working]\r            \rGet:3 file:/var/cache/mdt/packages ./ Packages\r\n",
            "\r0% [3 Packages 0 B]\r                   \rIgn:3 file:/var/cache/mdt/packages ./ Packages\r\n",
            "\r                   \r0% [Working]\r            \rGet:4 file:/var/cache/mdt/packages ./ Translation-en\r\n",
            "\r0% [4 Translation-en 0 B]\r                         \rIgn:4 file:/var/cache/mdt/packages ./ Translation-en\r\n",
            "\r                         \r0% [Working]\r            \rGet:5 file:/var/cache/mdt/packages ./ Translation-en_US\r\n",
            "\r0% [5 Translation-en_US 0 B]\r                            \rIgn:5 file:/var/cache/mdt/packages ./ Translation-en_US\r\n",
            "\r                            \r0% [Working]\r            \rGet:3 file:/var/cache/mdt/packages ./ Packages\r\n",
            "\r0% [3 Packages 0 B]\r                   \rIgn:3 file:/var/cache/mdt/packages ./ Packages\r\n",
            "\r                   \r0% [Working]\r            \rGet:4 file:/var/cache/mdt/packages ./ Translation-en\r\n",
            "\r0% [4 Translation-en 0 B]\r                         \rIgn:4 file:/var/cache/mdt/packages ./ Translation-en\r\n",
            "\r                         \r0% [Working]\r            \rGet:5 file:/var/cache/mdt/packages ./ Translation-en_US\r\n",
            "\r0% [5 Translation-en_US 0 B]\r                            \rIgn:5 file:/var/cache/mdt/packages ./ Translation-en_US\r\n",
            "\r                            \r0% [Working]\r            \rGet:3 file:/var/cache/mdt/packages ./ Packages\r\n",
            "\r0% [3 Packages 0 B]\r                   \rIgn:3 file:/var/cache/mdt/packages ./ Packages\r\n",
            "\r                   \r0% [Working]\r            \rGet:4 file:/var/cache/mdt/packages ./ Translation-en\r\n",
            "\r0% [4 Translation-en 0 B]\r                         \rIgn:4 file:/var/cache/mdt/packages ./ Translation-en\r\n",
            "\r                         \r0% [Working]\r            \rGet:5 file:/var/cache/mdt/packages ./ Translation-en_US\r\n",
            "\r0% [5 Translation-en_US 0 B]\r                            \rIgn:5 file:/var/cache/mdt/packages ./ Translation-en_US\r\n",
            "\r                            \r0% [Working]\r            \rGet:3 file:/var/cache/mdt/packages ./ Packages\r\n",
            "\r0% [3 Packages 0 B]\r                   \rIgn:3 file:/var/cache/mdt/packages ./ Packages\r\n",
            "Get:4 file:/var/cache/mdt/packages ./ Translation-en\n",
            "Ign:4 file:/var/cache/mdt/packages ./ Translation-en\n",
            "Get:5 file:/var/cache/mdt/packages ./ Translation-en_US\n",
            "Ign:5 file:/var/cache/mdt/packages ./ Translation-en_US\n",
            "Get:3 file:/var/cache/mdt/packages ./ Packages\n",
            "Ign:3 file:/var/cache/mdt/packages ./ Packages\n",
            "Get:4 file:/var/cache/mdt/packages ./ Translation-en\n",
            "Ign:4 file:/var/cache/mdt/packages ./ Translation-en\n",
            "Get:5 file:/var/cache/mdt/packages ./ Translation-en_US\n",
            "Ign:5 file:/var/cache/mdt/packages ./ Translation-en_US\n",
            "Get:3 file:/var/cache/mdt/packages ./ Packages\n",
            "Ign:3 file:/var/cache/mdt/packages ./ Packages\n",
            "Get:4 file:/var/cache/mdt/packages ./ Translation-en\n",
            "Ign:4 file:/var/cache/mdt/packages ./ Translation-en\n",
            "Get:5 file:/var/cache/mdt/packages ./ Translation-en_US\n",
            "Ign:5 file:/var/cache/mdt/packages ./ Translation-en_US\n",
            "Get:3 file:/var/cache/mdt/packages ./ Packages\n",
            "Get:4 file:/var/cache/mdt/packages ./ Translation-en\n",
            "Ign:4 file:/var/cache/mdt/packages ./ Translation-en\n",
            "Get:5 file:/var/cache/mdt/packages ./ Translation-en_US\n",
            "Ign:5 file:/var/cache/mdt/packages ./ Translation-en_US\n",
            "Hit:6 https://packages.cloud.google.com/apt mendel-bsp-enterprise-day InRelease\n",
            "Hit:7 https://packages.cloud.google.com/apt coral-edgetpu-stable InRelease\n",
            "Hit:8 https://packages.cloud.google.com/apt mendel-day InRelease\n",
            "Reading package lists... Done\n",
            "Reading package lists... Done\n",
            "Building dependency tree       \n",
            "Reading state information... Done\n",
            "The following NEW packages will be installed:\n",
            "  edgetpu-examples\n",
            "0 upgraded, 1 newly installed, 0 to remove and 0 not upgraded.\n",
            "Need to get 28.9 MB of archives.\n",
            "After this operation, 47.8 MB of additional disk space will be used.\n",
            "Get:1 https://packages.cloud.google.com/apt coral-edgetpu-stable/main arm64 edgetpu-examples all 12.1-1 [28.9 MB]\n",
            "Fetched 28.9 MB in 2s (14.6 MB/s)\n",
            "Selecting previously unselected package edgetpu-examples.\n",
            "(Reading database ... 44057 files and directories currently installed.)\n",
            "Preparing to unpack .../edgetpu-examples_12.1-1_all.deb ...\n",
            "Unpacking edgetpu-examples (12.1-1) ...\n",
            "Setting up edgetpu-examples (12.1-1) ...\n"
          ],
          "name": "stdout"
        }
      ]
    },
    {
      "cell_type": "markdown",
      "metadata": {
        "id": "pLCue5FEVjPq",
        "colab_type": "text"
      },
      "source": [
        "Then you can run an inference with this code:"
      ]
    },
    {
      "cell_type": "code",
      "metadata": {
        "id": "p3A3R8KwL5fj",
        "colab_type": "code",
        "outputId": "d13c2753-ceaf-4c29-b712-37bd7673c222",
        "colab": {
          "base_uri": "https://localhost:8080/",
          "height": 119
        }
      },
      "source": [
        "from edgetpu.classification.engine import ClassificationEngine\n",
        "from edgetpu.utils import dataset_utils\n",
        "from PIL import Image\n",
        "\n",
        "# Prepare labels.\n",
        "labels = dataset_utils.read_label_file('/usr/share/edgetpu/examples/models/inat_bird_labels.txt')\n",
        "# Initialize engine.\n",
        "engine = ClassificationEngine('/usr/share/edgetpu/examples/models/mobilenet_v2_1.0_224_inat_bird_quant_edgetpu.tflite')\n",
        "# Run inference.\n",
        "img = Image.open('/usr/share/edgetpu/examples/images/parrot.jpg')\n",
        "for result in engine.classify_with_image(img, top_k=3):\n",
        " print('---------------------------')\n",
        " print(labels[result[0]])\n",
        " print('Score : ', result[1])"
      ],
      "execution_count": 2,
      "outputs": [
        {
          "output_type": "stream",
          "text": [
            "---------------------------\n",
            "Ara macao (Scarlet Macaw)\n",
            "Score :  0.61328125\n",
            "---------------------------\n",
            "Platycercus elegans (Crimson Rosella)\n",
            "Score :  0.15234375\n"
          ],
          "name": "stdout"
        }
      ]
    },
    {
      "cell_type": "markdown",
      "metadata": {
        "id": "OrkVo6HbuiqO",
        "colab_type": "text"
      },
      "source": [
        "You should see classification results for \"Ara macao (Scarlet Macaw).\" \n",
        "\n",
        "You can now create your own Colab files and connect them to the same local runtime."
      ]
    }
  ]
}